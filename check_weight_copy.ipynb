{
 "cells": [
  {
   "cell_type": "code",
   "execution_count": 2,
   "metadata": {},
   "outputs": [],
   "source": [
    "import torch\n",
    "from model import *\n",
    "import torchvision.models as models\n"
   ]
  },
  {
   "cell_type": "code",
   "execution_count": 3,
   "metadata": {},
   "outputs": [
    {
     "name": "stdout",
     "output_type": "stream",
     "text": [
      "Initializing with pretrained model from PyTorch\n",
      "Initializing model with custom weights & bias\n",
      "Initialization Done\n"
     ]
    }
   ],
   "source": [
    "qvgg=QuantVGG(VGG_type='D',pretrained_model='pytorch')"
   ]
  },
  {
   "cell_type": "code",
   "execution_count": 4,
   "metadata": {},
   "outputs": [],
   "source": [
    "pre_model=models.vgg16(pretrained=True)"
   ]
  },
  {
   "cell_type": "code",
   "execution_count": 5,
   "metadata": {},
   "outputs": [],
   "source": [
    "quant_features=list(qvgg.features)"
   ]
  },
  {
   "cell_type": "code",
   "execution_count": 6,
   "metadata": {},
   "outputs": [],
   "source": [
    "norm_features=list(pre_model.features)"
   ]
  },
  {
   "cell_type": "code",
   "execution_count": 10,
   "metadata": {},
   "outputs": [
    {
     "name": "stdout",
     "output_type": "stream",
     "text": [
      "0   <class 'brevitas.nn.quant_conv.QuantConv2d'>\n",
      "1   <class 'brevitas.nn.quant_activation.QuantReLU'>\n",
      "2   <class 'brevitas.nn.quant_conv.QuantConv2d'>\n",
      "3   <class 'brevitas.nn.quant_activation.QuantReLU'>\n",
      "4   <class 'torch.nn.modules.pooling.MaxPool2d'>\n",
      "5   <class 'brevitas.nn.quant_conv.QuantConv2d'>\n",
      "6   <class 'brevitas.nn.quant_activation.QuantReLU'>\n",
      "7   <class 'brevitas.nn.quant_conv.QuantConv2d'>\n",
      "8   <class 'brevitas.nn.quant_activation.QuantReLU'>\n",
      "9   <class 'torch.nn.modules.pooling.MaxPool2d'>\n",
      "10   <class 'brevitas.nn.quant_conv.QuantConv2d'>\n",
      "11   <class 'brevitas.nn.quant_activation.QuantReLU'>\n",
      "12   <class 'brevitas.nn.quant_conv.QuantConv2d'>\n",
      "13   <class 'brevitas.nn.quant_activation.QuantReLU'>\n",
      "14   <class 'brevitas.nn.quant_conv.QuantConv2d'>\n",
      "15   <class 'brevitas.nn.quant_activation.QuantReLU'>\n",
      "16   <class 'torch.nn.modules.pooling.MaxPool2d'>\n",
      "17   <class 'brevitas.nn.quant_conv.QuantConv2d'>\n",
      "18   <class 'brevitas.nn.quant_activation.QuantReLU'>\n",
      "19   <class 'brevitas.nn.quant_conv.QuantConv2d'>\n",
      "20   <class 'brevitas.nn.quant_activation.QuantReLU'>\n",
      "21   <class 'brevitas.nn.quant_conv.QuantConv2d'>\n",
      "22   <class 'brevitas.nn.quant_activation.QuantReLU'>\n",
      "23   <class 'torch.nn.modules.pooling.MaxPool2d'>\n",
      "24   <class 'brevitas.nn.quant_conv.QuantConv2d'>\n",
      "25   <class 'brevitas.nn.quant_activation.QuantReLU'>\n",
      "26   <class 'brevitas.nn.quant_conv.QuantConv2d'>\n",
      "27   <class 'brevitas.nn.quant_activation.QuantReLU'>\n",
      "28   <class 'brevitas.nn.quant_conv.QuantConv2d'>\n",
      "29   <class 'brevitas.nn.quant_activation.QuantReLU'>\n",
      "30   <class 'torch.nn.modules.pooling.MaxPool2d'>\n"
     ]
    }
   ],
   "source": [
    "for i in range(len(quant_features)):\n",
    "    print(i,\" \",type(quant_features[i]))"
   ]
  },
  {
   "cell_type": "code",
   "execution_count": 11,
   "metadata": {},
   "outputs": [
    {
     "name": "stdout",
     "output_type": "stream",
     "text": [
      "0   <class 'torch.nn.modules.conv.Conv2d'>\n",
      "1   <class 'torch.nn.modules.activation.ReLU'>\n",
      "2   <class 'torch.nn.modules.conv.Conv2d'>\n",
      "3   <class 'torch.nn.modules.activation.ReLU'>\n",
      "4   <class 'torch.nn.modules.pooling.MaxPool2d'>\n",
      "5   <class 'torch.nn.modules.conv.Conv2d'>\n",
      "6   <class 'torch.nn.modules.activation.ReLU'>\n",
      "7   <class 'torch.nn.modules.conv.Conv2d'>\n",
      "8   <class 'torch.nn.modules.activation.ReLU'>\n",
      "9   <class 'torch.nn.modules.pooling.MaxPool2d'>\n",
      "10   <class 'torch.nn.modules.conv.Conv2d'>\n",
      "11   <class 'torch.nn.modules.activation.ReLU'>\n",
      "12   <class 'torch.nn.modules.conv.Conv2d'>\n",
      "13   <class 'torch.nn.modules.activation.ReLU'>\n",
      "14   <class 'torch.nn.modules.conv.Conv2d'>\n",
      "15   <class 'torch.nn.modules.activation.ReLU'>\n",
      "16   <class 'torch.nn.modules.pooling.MaxPool2d'>\n",
      "17   <class 'torch.nn.modules.conv.Conv2d'>\n",
      "18   <class 'torch.nn.modules.activation.ReLU'>\n",
      "19   <class 'torch.nn.modules.conv.Conv2d'>\n",
      "20   <class 'torch.nn.modules.activation.ReLU'>\n",
      "21   <class 'torch.nn.modules.conv.Conv2d'>\n",
      "22   <class 'torch.nn.modules.activation.ReLU'>\n",
      "23   <class 'torch.nn.modules.pooling.MaxPool2d'>\n",
      "24   <class 'torch.nn.modules.conv.Conv2d'>\n",
      "25   <class 'torch.nn.modules.activation.ReLU'>\n",
      "26   <class 'torch.nn.modules.conv.Conv2d'>\n",
      "27   <class 'torch.nn.modules.activation.ReLU'>\n",
      "28   <class 'torch.nn.modules.conv.Conv2d'>\n",
      "29   <class 'torch.nn.modules.activation.ReLU'>\n",
      "30   <class 'torch.nn.modules.pooling.MaxPool2d'>\n"
     ]
    }
   ],
   "source": [
    "for i in range(len(norm_features)):\n",
    "    print(i,\" \",type(norm_features[i]))"
   ]
  },
  {
   "cell_type": "code",
   "execution_count": 12,
   "metadata": {},
   "outputs": [
    {
     "name": "stdout",
     "output_type": "stream",
     "text": [
      "tensor(0)\n",
      "tensor(0)\n",
      "tensor(0)\n",
      "tensor(0)\n",
      "tensor(0)\n",
      "tensor(0)\n",
      "tensor(0)\n",
      "tensor(0)\n",
      "tensor(0)\n",
      "tensor(0)\n",
      "tensor(0)\n",
      "tensor(0)\n",
      "tensor(0)\n"
     ]
    }
   ],
   "source": [
    "for i in [0,2,5,7,10,12,14,17,19,21,24,26,28]:\n",
    "    print(quant_features[i].weight.data.ne(norm_features[i].weight.data).sum())"
   ]
  },
  {
   "cell_type": "code",
   "execution_count": null,
   "metadata": {},
   "outputs": [],
   "source": []
  }
 ],
 "metadata": {
  "kernelspec": {
   "display_name": "Python 3",
   "language": "python",
   "name": "python3"
  },
  "language_info": {
   "codemirror_mode": {
    "name": "ipython",
    "version": 3
   },
   "file_extension": ".py",
   "mimetype": "text/x-python",
   "name": "python",
   "nbconvert_exporter": "python",
   "pygments_lexer": "ipython3",
   "version": "3.8.5"
  }
 },
 "nbformat": 4,
 "nbformat_minor": 4
}
